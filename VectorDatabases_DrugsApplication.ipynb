{
  "nbformat": 4,
  "nbformat_minor": 0,
  "metadata": {
    "colab": {
      "provenance": []
    },
    "kernelspec": {
      "name": "python3",
      "display_name": "Python 3"
    },
    "language_info": {
      "name": "python"
    }
  },
  "cells": [
    {
      "cell_type": "code",
      "execution_count": 3,
      "metadata": {
        "colab": {
          "base_uri": "https://localhost:8080/"
        },
        "collapsed": true,
        "id": "eZWU71edLR1C",
        "outputId": "55ef3e5c-e487-4a64-8b55-6c7aed32d971"
      },
      "outputs": [
        {
          "output_type": "stream",
          "name": "stdout",
          "text": [
            "Requirement already satisfied: weaviate-client in /usr/local/lib/python3.10/dist-packages (4.8.1)\n",
            "Requirement already satisfied: requests<3.0.0,>=2.30.0 in /usr/local/lib/python3.10/dist-packages (from weaviate-client) (2.32.3)\n",
            "Requirement already satisfied: httpx<=0.27.0,>=0.25.0 in /usr/local/lib/python3.10/dist-packages (from weaviate-client) (0.27.0)\n",
            "Requirement already satisfied: validators==0.34.0 in /usr/local/lib/python3.10/dist-packages (from weaviate-client) (0.34.0)\n",
            "Requirement already satisfied: authlib<1.3.2,>=1.2.1 in /usr/local/lib/python3.10/dist-packages (from weaviate-client) (1.3.1)\n",
            "Requirement already satisfied: pydantic<3.0.0,>=2.5.0 in /usr/local/lib/python3.10/dist-packages (from weaviate-client) (2.9.2)\n",
            "Requirement already satisfied: grpcio<2.0.0,>=1.57.0 in /usr/local/lib/python3.10/dist-packages (from weaviate-client) (1.66.2)\n",
            "Requirement already satisfied: grpcio-tools<2.0.0,>=1.57.0 in /usr/local/lib/python3.10/dist-packages (from weaviate-client) (1.66.2)\n",
            "Requirement already satisfied: grpcio-health-checking<2.0.0,>=1.57.0 in /usr/local/lib/python3.10/dist-packages (from weaviate-client) (1.66.2)\n",
            "Requirement already satisfied: cryptography in /usr/local/lib/python3.10/dist-packages (from authlib<1.3.2,>=1.2.1->weaviate-client) (43.0.1)\n",
            "Requirement already satisfied: protobuf<6.0dev,>=5.26.1 in /usr/local/lib/python3.10/dist-packages (from grpcio-health-checking<2.0.0,>=1.57.0->weaviate-client) (5.28.2)\n",
            "Requirement already satisfied: setuptools in /usr/local/lib/python3.10/dist-packages (from grpcio-tools<2.0.0,>=1.57.0->weaviate-client) (71.0.4)\n",
            "Requirement already satisfied: anyio in /usr/local/lib/python3.10/dist-packages (from httpx<=0.27.0,>=0.25.0->weaviate-client) (3.7.1)\n",
            "Requirement already satisfied: certifi in /usr/local/lib/python3.10/dist-packages (from httpx<=0.27.0,>=0.25.0->weaviate-client) (2024.8.30)\n",
            "Requirement already satisfied: httpcore==1.* in /usr/local/lib/python3.10/dist-packages (from httpx<=0.27.0,>=0.25.0->weaviate-client) (1.0.6)\n",
            "Requirement already satisfied: idna in /usr/local/lib/python3.10/dist-packages (from httpx<=0.27.0,>=0.25.0->weaviate-client) (3.10)\n",
            "Requirement already satisfied: sniffio in /usr/local/lib/python3.10/dist-packages (from httpx<=0.27.0,>=0.25.0->weaviate-client) (1.3.1)\n",
            "Requirement already satisfied: h11<0.15,>=0.13 in /usr/local/lib/python3.10/dist-packages (from httpcore==1.*->httpx<=0.27.0,>=0.25.0->weaviate-client) (0.14.0)\n",
            "Requirement already satisfied: annotated-types>=0.6.0 in /usr/local/lib/python3.10/dist-packages (from pydantic<3.0.0,>=2.5.0->weaviate-client) (0.7.0)\n",
            "Requirement already satisfied: pydantic-core==2.23.4 in /usr/local/lib/python3.10/dist-packages (from pydantic<3.0.0,>=2.5.0->weaviate-client) (2.23.4)\n",
            "Requirement already satisfied: typing-extensions>=4.6.1 in /usr/local/lib/python3.10/dist-packages (from pydantic<3.0.0,>=2.5.0->weaviate-client) (4.12.2)\n",
            "Requirement already satisfied: charset-normalizer<4,>=2 in /usr/local/lib/python3.10/dist-packages (from requests<3.0.0,>=2.30.0->weaviate-client) (3.3.2)\n",
            "Requirement already satisfied: urllib3<3,>=1.21.1 in /usr/local/lib/python3.10/dist-packages (from requests<3.0.0,>=2.30.0->weaviate-client) (2.2.3)\n",
            "Requirement already satisfied: exceptiongroup in /usr/local/lib/python3.10/dist-packages (from anyio->httpx<=0.27.0,>=0.25.0->weaviate-client) (1.2.2)\n",
            "Requirement already satisfied: cffi>=1.12 in /usr/local/lib/python3.10/dist-packages (from cryptography->authlib<1.3.2,>=1.2.1->weaviate-client) (1.17.1)\n",
            "Requirement already satisfied: pycparser in /usr/local/lib/python3.10/dist-packages (from cffi>=1.12->cryptography->authlib<1.3.2,>=1.2.1->weaviate-client) (2.22)\n"
          ]
        }
      ],
      "source": [
        "!pip install weaviate-client\n"
      ]
    },
    {
      "cell_type": "code",
      "source": [
        "!pip install openai==0.28.1"
      ],
      "metadata": {
        "colab": {
          "base_uri": "https://localhost:8080/",
          "height": 547
        },
        "collapsed": true,
        "id": "x4DzgvKgLdr7",
        "outputId": "59b6afdb-b6b8-40a3-9fcd-80d040b79c1a"
      },
      "execution_count": 24,
      "outputs": [
        {
          "output_type": "stream",
          "name": "stdout",
          "text": [
            "Collecting openai==0.28.1\n",
            "  Downloading openai-0.28.1-py3-none-any.whl.metadata (11 kB)\n",
            "Requirement already satisfied: requests>=2.20 in /usr/local/lib/python3.10/dist-packages (from openai==0.28.1) (2.32.3)\n",
            "Requirement already satisfied: tqdm in /usr/local/lib/python3.10/dist-packages (from openai==0.28.1) (4.66.5)\n",
            "Requirement already satisfied: aiohttp in /usr/local/lib/python3.10/dist-packages (from openai==0.28.1) (3.10.8)\n",
            "Requirement already satisfied: charset-normalizer<4,>=2 in /usr/local/lib/python3.10/dist-packages (from requests>=2.20->openai==0.28.1) (3.3.2)\n",
            "Requirement already satisfied: idna<4,>=2.5 in /usr/local/lib/python3.10/dist-packages (from requests>=2.20->openai==0.28.1) (3.10)\n",
            "Requirement already satisfied: urllib3<3,>=1.21.1 in /usr/local/lib/python3.10/dist-packages (from requests>=2.20->openai==0.28.1) (2.2.3)\n",
            "Requirement already satisfied: certifi>=2017.4.17 in /usr/local/lib/python3.10/dist-packages (from requests>=2.20->openai==0.28.1) (2024.8.30)\n",
            "Requirement already satisfied: aiohappyeyeballs>=2.3.0 in /usr/local/lib/python3.10/dist-packages (from aiohttp->openai==0.28.1) (2.4.2)\n",
            "Requirement already satisfied: aiosignal>=1.1.2 in /usr/local/lib/python3.10/dist-packages (from aiohttp->openai==0.28.1) (1.3.1)\n",
            "Requirement already satisfied: attrs>=17.3.0 in /usr/local/lib/python3.10/dist-packages (from aiohttp->openai==0.28.1) (24.2.0)\n",
            "Requirement already satisfied: frozenlist>=1.1.1 in /usr/local/lib/python3.10/dist-packages (from aiohttp->openai==0.28.1) (1.4.1)\n",
            "Requirement already satisfied: multidict<7.0,>=4.5 in /usr/local/lib/python3.10/dist-packages (from aiohttp->openai==0.28.1) (6.1.0)\n",
            "Requirement already satisfied: yarl<2.0,>=1.12.0 in /usr/local/lib/python3.10/dist-packages (from aiohttp->openai==0.28.1) (1.13.1)\n",
            "Requirement already satisfied: async-timeout<5.0,>=4.0 in /usr/local/lib/python3.10/dist-packages (from aiohttp->openai==0.28.1) (4.0.3)\n",
            "Requirement already satisfied: typing-extensions>=4.1.0 in /usr/local/lib/python3.10/dist-packages (from multidict<7.0,>=4.5->aiohttp->openai==0.28.1) (4.12.2)\n",
            "Downloading openai-0.28.1-py3-none-any.whl (76 kB)\n",
            "\u001b[2K   \u001b[90m━━━━━━━━━━━━━━━━━━━━━━━━━━━━━━━━━━━━━━━━\u001b[0m \u001b[32m77.0/77.0 kB\u001b[0m \u001b[31m2.3 MB/s\u001b[0m eta \u001b[36m0:00:00\u001b[0m\n",
            "\u001b[?25hInstalling collected packages: openai\n",
            "  Attempting uninstall: openai\n",
            "    Found existing installation: openai 0.28.0\n",
            "    Uninstalling openai-0.28.0:\n",
            "      Successfully uninstalled openai-0.28.0\n",
            "Successfully installed openai-0.28.1\n"
          ]
        },
        {
          "output_type": "display_data",
          "data": {
            "application/vnd.colab-display-data+json": {
              "pip_warning": {
                "packages": [
                  "openai"
                ]
              },
              "id": "91d47e5a7496444bb1718729bb09b009"
            }
          },
          "metadata": {}
        }
      ]
    },
    {
      "cell_type": "code",
      "source": [
        "import openai\n",
        "import weaviate\n",
        "from weaviate import EmbeddedOptions\n"
      ],
      "metadata": {
        "id": "hNbwPDYXLhrF"
      },
      "execution_count": 4,
      "outputs": []
    },
    {
      "cell_type": "code",
      "source": [
        "client= weaviate.Client(\n",
        "    embedded_options=weaviate.EmbeddedOptions(),\n",
        "    additional_headers={\n",
        "        \"X-OpenAI-Api-Key\": openai.api_key #insert your own; ive hidden mine\n",
        "\n",
        "    }\n",
        ")"
      ],
      "metadata": {
        "colab": {
          "base_uri": "https://localhost:8080/"
        },
        "collapsed": true,
        "id": "cFp89IQmLnP8",
        "outputId": "11fe196a-1ca0-404a-d932-03c1b0dfbd04"
      },
      "execution_count": 6,
      "outputs": [
        {
          "output_type": "stream",
          "name": "stderr",
          "text": [
            "<ipython-input-6-9b76151dedd9>:1: DeprecationWarning: \n",
            "Python client v3 `weaviate.Client(...)` connections and methods are deprecated and will\n",
            "            be removed by 2024-11-30.\n",
            "\n",
            "            Upgrade your code to use Python client v4 `weaviate.WeaviateClient` connections and methods.\n",
            "                - For Python Client v4 usage, see: https://weaviate.io/developers/weaviate/client-libraries/python\n",
            "                - For code migration, see: https://weaviate.io/developers/weaviate/client-libraries/python/v3_v4_migration\n",
            "\n",
            "            If you have to use v3 code, install the v3 client and pin the v3 dependency in your requirements file: `weaviate-client>=3.26.7;<4.0.0`\n",
            "  client= weaviate.Client(\n",
            "INFO:weaviate-client:Started /root/.cache/weaviate-embedded: process ID 6799\n"
          ]
        }
      ]
    },
    {
      "cell_type": "code",
      "source": [
        "pip install ucimlrepo"
      ],
      "metadata": {
        "colab": {
          "base_uri": "https://localhost:8080/"
        },
        "id": "QnlCxqJyMXVr",
        "outputId": "7602032f-261d-42a7-98d7-d2176cd1968f"
      },
      "execution_count": 8,
      "outputs": [
        {
          "output_type": "stream",
          "name": "stdout",
          "text": [
            "Collecting ucimlrepo\n",
            "  Downloading ucimlrepo-0.0.7-py3-none-any.whl.metadata (5.5 kB)\n",
            "Requirement already satisfied: pandas>=1.0.0 in /usr/local/lib/python3.10/dist-packages (from ucimlrepo) (2.2.2)\n",
            "Requirement already satisfied: certifi>=2020.12.5 in /usr/local/lib/python3.10/dist-packages (from ucimlrepo) (2024.8.30)\n",
            "Requirement already satisfied: numpy>=1.22.4 in /usr/local/lib/python3.10/dist-packages (from pandas>=1.0.0->ucimlrepo) (1.26.4)\n",
            "Requirement already satisfied: python-dateutil>=2.8.2 in /usr/local/lib/python3.10/dist-packages (from pandas>=1.0.0->ucimlrepo) (2.8.2)\n",
            "Requirement already satisfied: pytz>=2020.1 in /usr/local/lib/python3.10/dist-packages (from pandas>=1.0.0->ucimlrepo) (2024.2)\n",
            "Requirement already satisfied: tzdata>=2022.7 in /usr/local/lib/python3.10/dist-packages (from pandas>=1.0.0->ucimlrepo) (2024.2)\n",
            "Requirement already satisfied: six>=1.5 in /usr/local/lib/python3.10/dist-packages (from python-dateutil>=2.8.2->pandas>=1.0.0->ucimlrepo) (1.16.0)\n",
            "Downloading ucimlrepo-0.0.7-py3-none-any.whl (8.0 kB)\n",
            "Installing collected packages: ucimlrepo\n",
            "Successfully installed ucimlrepo-0.0.7\n"
          ]
        }
      ]
    },
    {
      "cell_type": "code",
      "source": [
        "from ucimlrepo import fetch_ucirepo\n",
        "\n",
        "# fetch dataset\n",
        "drug_reviews_druglib_com = fetch_ucirepo(id=461)\n",
        "\n",
        "# data (as pandas dataframes)\n",
        "X = drug_reviews_druglib_com.data.features\n",
        "\n",
        "# metadata\n",
        "print(drug_reviews_druglib_com.metadata)\n",
        "\n",
        "# variable information\n",
        "print(drug_reviews_druglib_com.variables)\n"
      ],
      "metadata": {
        "colab": {
          "base_uri": "https://localhost:8080/"
        },
        "id": "K_YmJBZEQp_0",
        "outputId": "22e52744-225a-45fe-9cb5-63c54fce35cc"
      },
      "execution_count": 7,
      "outputs": [
        {
          "output_type": "stream",
          "name": "stdout",
          "text": [
            "{'uci_id': 461, 'name': 'Drug Reviews (Druglib.com)', 'repository_url': 'https://archive.ics.uci.edu/dataset/461/drug+review+dataset+druglib+com', 'data_url': 'https://archive.ics.uci.edu/static/public/461/data.csv', 'abstract': 'The dataset provides patient reviews on specific drugs along with related conditions. Reviews and ratings are grouped into reports on the three aspects benefits, side effects and overall comment.', 'area': 'Health and Medicine', 'tasks': ['Classification', 'Regression', 'Clustering'], 'characteristics': ['Multivariate', 'Text'], 'num_instances': 4143, 'num_features': 8, 'feature_types': ['Integer'], 'demographics': [], 'target_col': None, 'index_col': ['reviewID'], 'has_missing_values': 'no', 'missing_values_symbol': None, 'year_of_dataset_creation': 2018, 'last_updated': 'Wed Apr 03 2024', 'dataset_doi': '10.24432/C55G6J', 'creators': ['Surya Kallumadi', 'Felix Grer'], 'intro_paper': {'ID': 457, 'type': 'NATIVE', 'title': 'Aspect-Based Sentiment Analysis of Drug Reviews Applying Cross-Domain and Cross-Data Learning', 'authors': 'F. Gräßer, Surya Kallumadi, H. Malberg, S. Zaunseder', 'venue': 'Digital Humanities Conference', 'year': 2018, 'journal': None, 'DOI': '10.1145/3194658.3194677', 'URL': 'https://www.semanticscholar.org/paper/4d7c25fe6131a79dfec9f45b70b270f400ac2b4f', 'sha': None, 'corpus': None, 'arxiv': None, 'mag': None, 'acl': None, 'pmid': None, 'pmcid': None}, 'additional_info': {'summary': \"The dataset provides patient reviews on specific drugs along with related conditions. Furthermore, reviews are grouped into reports on the three aspects benefits, side effects and overall comment. Additionally, ratings are available concerning overall satisfaction as well as a 5 step side effect rating and a 5 step effectiveness rating. The data was obtained by crawling online pharmaceutical review sites. The intention was to study \\r\\n\\r\\n(1) sentiment analysis of drug experience over multiple facets, i.e. sentiments learned on specific aspects such as effectiveness and side effects,\\r\\n(2) the transferability of models among domains, i.e. conditions, and \\r\\n(3) the transferability of models among different data sources (see 'Drug Review Dataset (Drugs.com)').\\r\\n\\r\\nThe data is split into a train (75%) a test (25%) partition (see publication) and stored in two .tsv (tab-separated-values) files, respectively.\\r\\n\\r\\nImportant notes:\\r\\n\\r\\nWhen using this dataset, you agree that you\\r\\n1) only use the data for research purposes\\r\\n2) don't use the data for any commerical purposes\\r\\n3) don't distribute the data to anyone else\\r\\n4) cite us\", 'purpose': None, 'funded_by': None, 'instances_represent': None, 'recommended_data_splits': None, 'sensitive_data': None, 'preprocessing_description': None, 'variable_info': '1. urlDrugName (categorical): name of drug\\r\\n2. condition (categorical): name of condition\\r\\n3. benefitsReview (text): patient on benefits\\r\\n4. sideEffectsReview (text): patient on side effects\\r\\n5. commentsReview (text): overall patient comment\\r\\n6. rating (numerical): 10 star patient rating\\r\\n7. sideEffects (categorical): 5 step side effect rating\\r\\n8. effectiveness (categorical): 5 step effectiveness rating', 'citation': None}}\n",
            "                name     role         type demographic description units  \\\n",
            "0           reviewID       ID      Integer        None        None  None   \n",
            "1        urlDrugName  Feature  Categorical        None        None  None   \n",
            "2             rating  Feature      Integer        None        None  None   \n",
            "3      effectiveness  Feature  Categorical        None        None  None   \n",
            "4        sideEffects  Feature  Categorical        None        None  None   \n",
            "5          condition  Feature  Categorical        None        None  None   \n",
            "6     benefitsReview  Feature  Categorical        None        None  None   \n",
            "7  sideEffectsReview  Feature  Categorical        None        None  None   \n",
            "8     commentsReview  Feature  Categorical        None        None  None   \n",
            "\n",
            "  missing_values  \n",
            "0             no  \n",
            "1             no  \n",
            "2             no  \n",
            "3             no  \n",
            "4             no  \n",
            "5             no  \n",
            "6             no  \n",
            "7             no  \n",
            "8             no  \n"
          ]
        }
      ]
    },
    {
      "cell_type": "code",
      "source": [
        "# Check for NaN values\n",
        "nan_values = X.isna().sum()\n",
        "print(\"NaN values in each column:\")\n",
        "print(nan_values)\n"
      ],
      "metadata": {
        "colab": {
          "base_uri": "https://localhost:8080/"
        },
        "id": "UVuj0fTgefYC",
        "outputId": "6b052b58-6f0b-49aa-a4bf-1c4c7522153e"
      },
      "execution_count": 8,
      "outputs": [
        {
          "output_type": "stream",
          "name": "stdout",
          "text": [
            "NaN values in each column:\n",
            "urlDrugName           0\n",
            "rating                0\n",
            "effectiveness         0\n",
            "sideEffects           0\n",
            "condition             1\n",
            "benefitsReview       23\n",
            "sideEffectsReview    98\n",
            "commentsReview       13\n",
            "dtype: int64\n"
          ]
        }
      ]
    },
    {
      "cell_type": "code",
      "source": [
        "X = X.dropna()"
      ],
      "metadata": {
        "id": "uoDclF2OeuYj"
      },
      "execution_count": 9,
      "outputs": []
    },
    {
      "cell_type": "code",
      "source": [
        "X"
      ],
      "metadata": {
        "colab": {
          "base_uri": "https://localhost:8080/",
          "height": 597
        },
        "id": "IpVtS8_NQtoR",
        "outputId": "a1296a5e-b40d-462a-d5b8-76c0d068396f"
      },
      "execution_count": 10,
      "outputs": [
        {
          "output_type": "execute_result",
          "data": {
            "text/plain": [
              "           urlDrugName  rating           effectiveness            sideEffects  \\\n",
              "0            enalapril       4        Highly Effective      Mild Side Effects   \n",
              "1     ortho-tri-cyclen       1        Highly Effective    Severe Side Effects   \n",
              "2              ponstel      10        Highly Effective        No Side Effects   \n",
              "3             prilosec       3    Marginally Effective      Mild Side Effects   \n",
              "4               lyrica       2    Marginally Effective    Severe Side Effects   \n",
              "...                ...     ...                     ...                    ...   \n",
              "4138          accutane       7  Considerably Effective    Severe Side Effects   \n",
              "4139        proair-hfa      10        Highly Effective        No Side Effects   \n",
              "4140          accutane       8  Considerably Effective  Moderate Side Effects   \n",
              "4141           divigel      10        Highly Effective        No Side Effects   \n",
              "4142    claripel-cream       8  Considerably Effective      Mild Side Effects   \n",
              "\n",
              "                                   condition  \\\n",
              "0     management of congestive heart failure   \n",
              "1                           birth prevention   \n",
              "2                           menstrual cramps   \n",
              "3                                acid reflux   \n",
              "4                               fibromyalgia   \n",
              "...                                      ...   \n",
              "4138                           acne vulgaris   \n",
              "4139                                  asthma   \n",
              "4140                              serve acne   \n",
              "4141                               menopause   \n",
              "4142       acne scarring & hyperpigmentation   \n",
              "\n",
              "                                         benefitsReview  \\\n",
              "0     slowed the progression of left ventricular dys...   \n",
              "1     Although this type of birth control has more c...   \n",
              "2     I was used to having cramps so badly that they...   \n",
              "3     The acid reflux went away for a few months aft...   \n",
              "4     I think that the Lyrica was starting to help w...   \n",
              "...                                                 ...   \n",
              "4138  Detoxing effect by pushing out the system thro...   \n",
              "4139  The albuterol relieved the constriction, irrit...   \n",
              "4140                    Serve Acne has turned to middle   \n",
              "4141  My overall mood, sense of well being, energy l...   \n",
              "4142  Up until 2 years ago, it worked really well on...   \n",
              "\n",
              "                                      sideEffectsReview  \\\n",
              "0     cough, hypotension , proteinuria, impotence , ...   \n",
              "1     Heavy Cycle, Cramps, Hot Flashes, Fatigue, Lon...   \n",
              "2            Heavier bleeding and clotting than normal.   \n",
              "3     Constipation, dry mouth and some mild dizzines...   \n",
              "4     I felt extremely drugged and dopey.  Could not...   \n",
              "...                                                 ...   \n",
              "4138  Hairloss, extreme dry skin, itchiness, raises ...   \n",
              "4139                I have experienced no side effects.   \n",
              "4140    Painfull muscles, problems with seeing at night   \n",
              "4141  No side effects of any kind were noted or appa...   \n",
              "4142  Have stopped using it and have also learned th...   \n",
              "\n",
              "                                         commentsReview  \n",
              "0     monitor blood pressure , weight and asses for ...  \n",
              "1     I Hate This Birth Control, I Would Not Suggest...  \n",
              "2     I took 2 pills at the onset of my menstrual cr...  \n",
              "3     I was given Prilosec prescription at a dose of...  \n",
              "4                                             See above  \n",
              "...                                                 ...  \n",
              "4138  Treatment period is 3 months/12 weeks. Dosage ...  \n",
              "4139  I use the albuterol as needed because of aller...  \n",
              "4140  This drug is highly teratogenic ,females must ...  \n",
              "4141  Divigel is a topically applied Bio-Identical H...  \n",
              "4142               Stopped using it for the time being.  \n",
              "\n",
              "[4013 rows x 8 columns]"
            ],
            "text/html": [
              "\n",
              "  <div id=\"df-4b2a120b-636c-4e52-a1a8-774a6e27de9b\" class=\"colab-df-container\">\n",
              "    <div>\n",
              "<style scoped>\n",
              "    .dataframe tbody tr th:only-of-type {\n",
              "        vertical-align: middle;\n",
              "    }\n",
              "\n",
              "    .dataframe tbody tr th {\n",
              "        vertical-align: top;\n",
              "    }\n",
              "\n",
              "    .dataframe thead th {\n",
              "        text-align: right;\n",
              "    }\n",
              "</style>\n",
              "<table border=\"1\" class=\"dataframe\">\n",
              "  <thead>\n",
              "    <tr style=\"text-align: right;\">\n",
              "      <th></th>\n",
              "      <th>urlDrugName</th>\n",
              "      <th>rating</th>\n",
              "      <th>effectiveness</th>\n",
              "      <th>sideEffects</th>\n",
              "      <th>condition</th>\n",
              "      <th>benefitsReview</th>\n",
              "      <th>sideEffectsReview</th>\n",
              "      <th>commentsReview</th>\n",
              "    </tr>\n",
              "  </thead>\n",
              "  <tbody>\n",
              "    <tr>\n",
              "      <th>0</th>\n",
              "      <td>enalapril</td>\n",
              "      <td>4</td>\n",
              "      <td>Highly Effective</td>\n",
              "      <td>Mild Side Effects</td>\n",
              "      <td>management of congestive heart failure</td>\n",
              "      <td>slowed the progression of left ventricular dys...</td>\n",
              "      <td>cough, hypotension , proteinuria, impotence , ...</td>\n",
              "      <td>monitor blood pressure , weight and asses for ...</td>\n",
              "    </tr>\n",
              "    <tr>\n",
              "      <th>1</th>\n",
              "      <td>ortho-tri-cyclen</td>\n",
              "      <td>1</td>\n",
              "      <td>Highly Effective</td>\n",
              "      <td>Severe Side Effects</td>\n",
              "      <td>birth prevention</td>\n",
              "      <td>Although this type of birth control has more c...</td>\n",
              "      <td>Heavy Cycle, Cramps, Hot Flashes, Fatigue, Lon...</td>\n",
              "      <td>I Hate This Birth Control, I Would Not Suggest...</td>\n",
              "    </tr>\n",
              "    <tr>\n",
              "      <th>2</th>\n",
              "      <td>ponstel</td>\n",
              "      <td>10</td>\n",
              "      <td>Highly Effective</td>\n",
              "      <td>No Side Effects</td>\n",
              "      <td>menstrual cramps</td>\n",
              "      <td>I was used to having cramps so badly that they...</td>\n",
              "      <td>Heavier bleeding and clotting than normal.</td>\n",
              "      <td>I took 2 pills at the onset of my menstrual cr...</td>\n",
              "    </tr>\n",
              "    <tr>\n",
              "      <th>3</th>\n",
              "      <td>prilosec</td>\n",
              "      <td>3</td>\n",
              "      <td>Marginally Effective</td>\n",
              "      <td>Mild Side Effects</td>\n",
              "      <td>acid reflux</td>\n",
              "      <td>The acid reflux went away for a few months aft...</td>\n",
              "      <td>Constipation, dry mouth and some mild dizzines...</td>\n",
              "      <td>I was given Prilosec prescription at a dose of...</td>\n",
              "    </tr>\n",
              "    <tr>\n",
              "      <th>4</th>\n",
              "      <td>lyrica</td>\n",
              "      <td>2</td>\n",
              "      <td>Marginally Effective</td>\n",
              "      <td>Severe Side Effects</td>\n",
              "      <td>fibromyalgia</td>\n",
              "      <td>I think that the Lyrica was starting to help w...</td>\n",
              "      <td>I felt extremely drugged and dopey.  Could not...</td>\n",
              "      <td>See above</td>\n",
              "    </tr>\n",
              "    <tr>\n",
              "      <th>...</th>\n",
              "      <td>...</td>\n",
              "      <td>...</td>\n",
              "      <td>...</td>\n",
              "      <td>...</td>\n",
              "      <td>...</td>\n",
              "      <td>...</td>\n",
              "      <td>...</td>\n",
              "      <td>...</td>\n",
              "    </tr>\n",
              "    <tr>\n",
              "      <th>4138</th>\n",
              "      <td>accutane</td>\n",
              "      <td>7</td>\n",
              "      <td>Considerably Effective</td>\n",
              "      <td>Severe Side Effects</td>\n",
              "      <td>acne vulgaris</td>\n",
              "      <td>Detoxing effect by pushing out the system thro...</td>\n",
              "      <td>Hairloss, extreme dry skin, itchiness, raises ...</td>\n",
              "      <td>Treatment period is 3 months/12 weeks. Dosage ...</td>\n",
              "    </tr>\n",
              "    <tr>\n",
              "      <th>4139</th>\n",
              "      <td>proair-hfa</td>\n",
              "      <td>10</td>\n",
              "      <td>Highly Effective</td>\n",
              "      <td>No Side Effects</td>\n",
              "      <td>asthma</td>\n",
              "      <td>The albuterol relieved the constriction, irrit...</td>\n",
              "      <td>I have experienced no side effects.</td>\n",
              "      <td>I use the albuterol as needed because of aller...</td>\n",
              "    </tr>\n",
              "    <tr>\n",
              "      <th>4140</th>\n",
              "      <td>accutane</td>\n",
              "      <td>8</td>\n",
              "      <td>Considerably Effective</td>\n",
              "      <td>Moderate Side Effects</td>\n",
              "      <td>serve acne</td>\n",
              "      <td>Serve Acne has turned to middle</td>\n",
              "      <td>Painfull muscles, problems with seeing at night</td>\n",
              "      <td>This drug is highly teratogenic ,females must ...</td>\n",
              "    </tr>\n",
              "    <tr>\n",
              "      <th>4141</th>\n",
              "      <td>divigel</td>\n",
              "      <td>10</td>\n",
              "      <td>Highly Effective</td>\n",
              "      <td>No Side Effects</td>\n",
              "      <td>menopause</td>\n",
              "      <td>My overall mood, sense of well being, energy l...</td>\n",
              "      <td>No side effects of any kind were noted or appa...</td>\n",
              "      <td>Divigel is a topically applied Bio-Identical H...</td>\n",
              "    </tr>\n",
              "    <tr>\n",
              "      <th>4142</th>\n",
              "      <td>claripel-cream</td>\n",
              "      <td>8</td>\n",
              "      <td>Considerably Effective</td>\n",
              "      <td>Mild Side Effects</td>\n",
              "      <td>acne scarring &amp; hyperpigmentation</td>\n",
              "      <td>Up until 2 years ago, it worked really well on...</td>\n",
              "      <td>Have stopped using it and have also learned th...</td>\n",
              "      <td>Stopped using it for the time being.</td>\n",
              "    </tr>\n",
              "  </tbody>\n",
              "</table>\n",
              "<p>4013 rows × 8 columns</p>\n",
              "</div>\n",
              "    <div class=\"colab-df-buttons\">\n",
              "      \n",
              "  <div class=\"colab-df-container\">\n",
              "    <button class=\"colab-df-convert\" onclick=\"convertToInteractive('df-4b2a120b-636c-4e52-a1a8-774a6e27de9b')\"\n",
              "            title=\"Convert this dataframe to an interactive table.\"\n",
              "            style=\"display:none;\">\n",
              "      \n",
              "  <svg xmlns=\"http://www.w3.org/2000/svg\" height=\"24px\" viewBox=\"0 -960 960 960\">\n",
              "    <path d=\"M120-120v-720h720v720H120Zm60-500h600v-160H180v160Zm220 220h160v-160H400v160Zm0 220h160v-160H400v160ZM180-400h160v-160H180v160Zm440 0h160v-160H620v160ZM180-180h160v-160H180v160Zm440 0h160v-160H620v160Z\"/>\n",
              "  </svg>\n",
              "    </button>\n",
              "    \n",
              "  <style>\n",
              "    .colab-df-container {\n",
              "      display:flex;\n",
              "      gap: 12px;\n",
              "    }\n",
              "\n",
              "    .colab-df-convert {\n",
              "      background-color: #E8F0FE;\n",
              "      border: none;\n",
              "      border-radius: 50%;\n",
              "      cursor: pointer;\n",
              "      display: none;\n",
              "      fill: #1967D2;\n",
              "      height: 32px;\n",
              "      padding: 0 0 0 0;\n",
              "      width: 32px;\n",
              "    }\n",
              "\n",
              "    .colab-df-convert:hover {\n",
              "      background-color: #E2EBFA;\n",
              "      box-shadow: 0px 1px 2px rgba(60, 64, 67, 0.3), 0px 1px 3px 1px rgba(60, 64, 67, 0.15);\n",
              "      fill: #174EA6;\n",
              "    }\n",
              "\n",
              "    .colab-df-buttons div {\n",
              "      margin-bottom: 4px;\n",
              "    }\n",
              "\n",
              "    [theme=dark] .colab-df-convert {\n",
              "      background-color: #3B4455;\n",
              "      fill: #D2E3FC;\n",
              "    }\n",
              "\n",
              "    [theme=dark] .colab-df-convert:hover {\n",
              "      background-color: #434B5C;\n",
              "      box-shadow: 0px 1px 3px 1px rgba(0, 0, 0, 0.15);\n",
              "      filter: drop-shadow(0px 1px 2px rgba(0, 0, 0, 0.3));\n",
              "      fill: #FFFFFF;\n",
              "    }\n",
              "  </style>\n",
              "\n",
              "    <script>\n",
              "      const buttonEl =\n",
              "        document.querySelector('#df-4b2a120b-636c-4e52-a1a8-774a6e27de9b button.colab-df-convert');\n",
              "      buttonEl.style.display =\n",
              "        google.colab.kernel.accessAllowed ? 'block' : 'none';\n",
              "\n",
              "      async function convertToInteractive(key) {\n",
              "        const element = document.querySelector('#df-4b2a120b-636c-4e52-a1a8-774a6e27de9b');\n",
              "        const dataTable =\n",
              "          await google.colab.kernel.invokeFunction('convertToInteractive',\n",
              "                                                    [key], {});\n",
              "        if (!dataTable) return;\n",
              "\n",
              "        const docLinkHtml = 'Like what you see? Visit the ' +\n",
              "          '<a target=\"_blank\" href=https://colab.research.google.com/notebooks/data_table.ipynb>data table notebook</a>'\n",
              "          + ' to learn more about interactive tables.';\n",
              "        element.innerHTML = '';\n",
              "        dataTable['output_type'] = 'display_data';\n",
              "        await google.colab.output.renderOutput(dataTable, element);\n",
              "        const docLink = document.createElement('div');\n",
              "        docLink.innerHTML = docLinkHtml;\n",
              "        element.appendChild(docLink);\n",
              "      }\n",
              "    </script>\n",
              "  </div>\n",
              "  \n",
              "    </div>\n",
              "  </div>\n",
              "  "
            ]
          },
          "metadata": {},
          "execution_count": 10
        }
      ]
    },
    {
      "cell_type": "code",
      "source": [
        "if client.schema.exists(\"Drug\"):\n",
        "  print('yes')\n",
        "  client.schema.delete_class(\"Drug\")\n"
      ],
      "metadata": {
        "colab": {
          "base_uri": "https://localhost:8080/"
        },
        "id": "wA5PN-m5NG-d",
        "outputId": "ec53317e-545d-41e4-8764-549232d44402"
      },
      "execution_count": 11,
      "outputs": [
        {
          "output_type": "stream",
          "name": "stdout",
          "text": [
            "yes\n"
          ]
        }
      ]
    },
    {
      "cell_type": "code",
      "source": [
        "\n",
        "# Define the class schema for the Drug\n",
        "drug_class = {\n",
        "    \"class\": \"Drug\",\n",
        "    \"properties\": [\n",
        "        {\"name\": \"urlDrugName\", \"dataType\": [\"text\"]},\n",
        "        {\"name\": \"rating\", \"dataType\": [\"int\"]},\n",
        "        {\"name\": \"effectiveness\", \"dataType\": [\"text\"]},\n",
        "        {\"name\": \"sideEffects\", \"dataType\": [\"text\"]},\n",
        "        {\"name\": \"condition\", \"dataType\": [\"text\"]},\n",
        "        {\"name\": \"benefitsReview\", \"dataType\": [\"text\"]},\n",
        "        {\"name\": \"sideEffectsReview\", \"dataType\": [\"text\"]},\n",
        "        {\"name\": \"commentsReview\", \"dataType\": [\"text\"]},\n",
        "    ],\n",
        "    \"vectorizer\": \"text2vec-openai\",  # Specify the vectorizer\n",
        "    \"generative\": \"openai\"              # Specify the generative model\n",
        "}\n",
        "\n",
        "# Create the class\n",
        "client.schema.create_class(drug_class)\n"
      ],
      "metadata": {
        "id": "FsgfJRnkMkw3"
      },
      "execution_count": 12,
      "outputs": []
    },
    {
      "cell_type": "code",
      "source": [
        "# Iterate through the dataframe and add each entry to Weaviate\n",
        "for index, row in X[:1000].iterrows():\n",
        "    client.data_object.create(\n",
        "        data_object={\n",
        "            \"urlDrugName\": row['urlDrugName'],\n",
        "            \"rating\": row['rating'],\n",
        "            \"effectiveness\": row['effectiveness'],\n",
        "            \"sideEffects\": row['sideEffects'],\n",
        "            \"condition\": row['condition'],\n",
        "            \"benefitsReview\": row['benefitsReview'],\n",
        "            \"sideEffectsReview\": row['sideEffectsReview'],\n",
        "            \"commentsReview\": row['commentsReview'],\n",
        "        },\n",
        "        class_name=\"Drug\"\n",
        "    )"
      ],
      "metadata": {
        "id": "StInF5fWVJZe"
      },
      "execution_count": 18,
      "outputs": []
    },
    {
      "cell_type": "code",
      "source": [
        "# Define the attributes of Methylphenidate\n",
        "new_drug = {\n",
        "    \"urlDrugName\": \"Methylphenidate\",\n",
        "    \"condition\": \"ADD\",\n",
        "    \"benefitsReview\": \"Improved concentration and focus, less distracted\",\n",
        "    \"sideEffectsReview\": \"Appetite was significantly suppressed, sleep issues\"\n",
        "}\n",
        "\n",
        "# Combine features of Methylphenidate into a single string for embedding\n",
        "combined_text = f\"{new_drug['urlDrugName']} {new_drug['condition']} {new_drug['benefitsReview']} {new_drug['sideEffectsReview']}\"\n"
      ],
      "metadata": {
        "id": "-e1ipSzD9CWA"
      },
      "execution_count": 64,
      "outputs": []
    },
    {
      "cell_type": "code",
      "source": [
        "import openai\n",
        "\n",
        "# Generate the embedding using OpenAI API\n",
        "response = openai.Embedding.create(\n",
        "    model=\"text-embedding-ada-002\",  # Replace with your embedding model\n",
        "    input=combined_text\n",
        ")\n",
        "\n",
        "# Extract the embedding vector\n",
        "methylphenidate_vector = response['data'][0]['embedding']\n"
      ],
      "metadata": {
        "id": "M_-2GLmV9EYA"
      },
      "execution_count": 65,
      "outputs": []
    },
    {
      "cell_type": "code",
      "source": [
        "# Perform a similarity search using the vector of Methylphenidate\n",
        "similar_drugs = client.query.get(\n",
        "    \"Drug\",  # Class name in my Weaviate database\n",
        "    [\"urlDrugName\", \"rating\", \"benefitsReview\", \"effectiveness\", \"sideEffects\", \"condition\", \"sideEffectsReview\",\"_additional { distance }\"]  # Fields to fetch\n",
        ").with_near_vector({\n",
        "    \"vector\": methylphenidate_vector\n",
        "}).with_limit(5).do()  # Limit to top 5 similar drugs\n",
        "\n",
        "# Display the results\n",
        "print(\"Similarity Search Results for Methylphenidate:\")\n",
        "for result in similar_drugs['data']['Get']['Drug']:\n",
        "    print(f\"Drug: {result['urlDrugName']}, Condition: {result['condition']}, Effectiveness: {result['effectiveness']}, Side Effects: {result['sideEffects']}, Benefits: {result['benefitsReview']}, side-effects: {result['sideEffectsReview']}, Distance: {result['_additional']['distance']} \\n\")\n"
      ],
      "metadata": {
        "colab": {
          "base_uri": "https://localhost:8080/"
        },
        "id": "BeZu6tXO_HYT",
        "outputId": "bea738cb-0698-43d7-de3c-2a7e2a14dc80"
      },
      "execution_count": 68,
      "outputs": [
        {
          "output_type": "stream",
          "name": "stdout",
          "text": [
            "Similarity Search Results for Methylphenidate:\n",
            "Drug: strattera, Condition: adult add, Effectiveness: Considerably Effective, Side Effects: Mild Side Effects, Benefits: calming effect, helped with sleep, helped with concentration, reduced appetite, improved depressive symptoms, side-effects: nausea at first, agitation at first, sleeplessness initially. it seemed to take away my sense of urgency for things a bit, which was good for alleviating anxiety but might have caused difficulties with timeliness at work and time management overall., Distance: 0.13883924 \n",
            "\n",
            "Drug: adderall, Condition: add, Effectiveness: Highly Effective, Side Effects: Mild Side Effects, Benefits: I was able to focus and get things done.  I wasn't overwhelmed with the amount of things I had to do and didn't get discouraged as easily as usual., side-effects: I had trouble falling asleep, especially if I didn't take it early enough in the morning., Distance: 0.14226341 \n",
            "\n",
            "Drug: adderall, Condition: add, Effectiveness: Highly Effective, Side Effects: Moderate Side Effects, Benefits: I find Adderall compared to other ADD meds to work most efficiently to help me focus and give me drive and motivation to stay on task without the jitters found in some ADD meds. Helps control anxiety, side-effects: lower immunity, some insomnia, Distance: 0.14666289 \n",
            "\n",
            "Drug: vyvanse, Condition: add, Effectiveness: Highly Effective, Side Effects: Mild Side Effects, Benefits: Helps with concentration and staying focused. Helps to keep me from being hyperactive and fidgety and helps with memory to an extent., side-effects: If I am stressed, I seem to be jittery and the benefits are not as prominent., Distance: 0.15089095 \n",
            "\n",
            "Drug: ritalin, Condition: adhd, Effectiveness: Considerably Effective, Side Effects: No Side Effects, Benefits: Primarily, my son was much better able to focus, control his impulsivity and, as a result, did better in school.  Our house became a much more peaceful place once he was better able to control his temper, which largely came from his frustration in knowing he was not doing as well as he could., side-effects: Initially, he experienced some sleepiness, but he adjusted to the medication and no longer has this problem., Distance: 0.15181625 \n",
            "\n"
          ]
        }
      ]
    }
  ]
}